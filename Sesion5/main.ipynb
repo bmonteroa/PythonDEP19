{
 "cells": [
  {
   "cell_type": "code",
   "execution_count": 17,
   "metadata": {},
   "outputs": [],
   "source": [
    "import pandas as pd\n",
    "from utils import connection as con"
   ]
  },
  {
   "cell_type": "code",
   "execution_count": 18,
   "metadata": {},
   "outputs": [],
   "source": [
    "conn_retail_db = con.connect_retail_db()\n",
    "connect_dw_retail = con.connect_dw_retail()"
   ]
  },
  {
   "cell_type": "code",
   "execution_count": 19,
   "metadata": {},
   "outputs": [],
   "source": [
    "# customers\n",
    "# orders\n",
    "# order_items\n",
    "# products\n",
    "# categories\n",
    "# departments"
   ]
  },
  {
   "cell_type": "code",
   "execution_count": 20,
   "metadata": {},
   "outputs": [],
   "source": [
    "\"\"\"\n",
    "df = pd.read_sql(\"select * from customers\", con= conn_retail_db)\n",
    "df.head()\n",
    "\"\"\"\n",
    "\n",
    "from etl import extract as ex"
   ]
  },
  {
   "cell_type": "code",
   "execution_count": 21,
   "metadata": {},
   "outputs": [],
   "source": [
    "df_customers = ex.extract_table(\"customers\",conn_retail_db)\n",
    "df_orders = ex.extract_table(\"orders\",conn_retail_db)\n",
    "df_order_items = ex.extract_table(\"order_items\",conn_retail_db)\n",
    "df_products = ex.extract_table(\"products\",conn_retail_db)\n",
    "df_categories = ex.extract_table(\"categories\",conn_retail_db)\n",
    "df_departments = ex.extract_table(\"departments\",conn_retail_db)"
   ]
  },
  {
   "cell_type": "code",
   "execution_count": 22,
   "metadata": {},
   "outputs": [
    {
     "data": {
      "text/html": [
       "<div>\n",
       "<style scoped>\n",
       "    .dataframe tbody tr th:only-of-type {\n",
       "        vertical-align: middle;\n",
       "    }\n",
       "\n",
       "    .dataframe tbody tr th {\n",
       "        vertical-align: top;\n",
       "    }\n",
       "\n",
       "    .dataframe thead th {\n",
       "        text-align: right;\n",
       "    }\n",
       "</style>\n",
       "<table border=\"1\" class=\"dataframe\">\n",
       "  <thead>\n",
       "    <tr style=\"text-align: right;\">\n",
       "      <th></th>\n",
       "      <th>customer_id</th>\n",
       "      <th>customer_fname</th>\n",
       "      <th>customer_lname</th>\n",
       "      <th>customer_email</th>\n",
       "      <th>customer_password</th>\n",
       "      <th>customer_street</th>\n",
       "      <th>customer_city</th>\n",
       "      <th>customer_state</th>\n",
       "      <th>customer_zipcode</th>\n",
       "    </tr>\n",
       "  </thead>\n",
       "  <tbody>\n",
       "    <tr>\n",
       "      <th>0</th>\n",
       "      <td>1</td>\n",
       "      <td>Richard</td>\n",
       "      <td>Hernandez</td>\n",
       "      <td>XXXXXXXXX</td>\n",
       "      <td>XXXXXXXXX</td>\n",
       "      <td>6303 Heather Plaza</td>\n",
       "      <td>Brownsville</td>\n",
       "      <td>TX</td>\n",
       "      <td>78521</td>\n",
       "    </tr>\n",
       "    <tr>\n",
       "      <th>1</th>\n",
       "      <td>2</td>\n",
       "      <td>Mary</td>\n",
       "      <td>Barrett</td>\n",
       "      <td>XXXXXXXXX</td>\n",
       "      <td>XXXXXXXXX</td>\n",
       "      <td>9526 Noble Embers Ridge</td>\n",
       "      <td>Littleton</td>\n",
       "      <td>CO</td>\n",
       "      <td>80126</td>\n",
       "    </tr>\n",
       "    <tr>\n",
       "      <th>2</th>\n",
       "      <td>3</td>\n",
       "      <td>Ann</td>\n",
       "      <td>Smith</td>\n",
       "      <td>XXXXXXXXX</td>\n",
       "      <td>XXXXXXXXX</td>\n",
       "      <td>3422 Blue Pioneer Bend</td>\n",
       "      <td>Caguas</td>\n",
       "      <td>PR</td>\n",
       "      <td>00725</td>\n",
       "    </tr>\n",
       "    <tr>\n",
       "      <th>3</th>\n",
       "      <td>4</td>\n",
       "      <td>Mary</td>\n",
       "      <td>Jones</td>\n",
       "      <td>XXXXXXXXX</td>\n",
       "      <td>XXXXXXXXX</td>\n",
       "      <td>8324 Little Common</td>\n",
       "      <td>San Marcos</td>\n",
       "      <td>CA</td>\n",
       "      <td>92069</td>\n",
       "    </tr>\n",
       "    <tr>\n",
       "      <th>4</th>\n",
       "      <td>5</td>\n",
       "      <td>Robert</td>\n",
       "      <td>Hudson</td>\n",
       "      <td>XXXXXXXXX</td>\n",
       "      <td>XXXXXXXXX</td>\n",
       "      <td>10 Crystal River Mall</td>\n",
       "      <td>Caguas</td>\n",
       "      <td>PR</td>\n",
       "      <td>00725</td>\n",
       "    </tr>\n",
       "  </tbody>\n",
       "</table>\n",
       "</div>"
      ],
      "text/plain": [
       "   customer_id customer_fname customer_lname customer_email customer_password  \\\n",
       "0            1        Richard      Hernandez      XXXXXXXXX         XXXXXXXXX   \n",
       "1            2           Mary        Barrett      XXXXXXXXX         XXXXXXXXX   \n",
       "2            3            Ann          Smith      XXXXXXXXX         XXXXXXXXX   \n",
       "3            4           Mary          Jones      XXXXXXXXX         XXXXXXXXX   \n",
       "4            5         Robert         Hudson      XXXXXXXXX         XXXXXXXXX   \n",
       "\n",
       "           customer_street customer_city customer_state customer_zipcode  \n",
       "0       6303 Heather Plaza   Brownsville             TX            78521  \n",
       "1  9526 Noble Embers Ridge     Littleton             CO            80126  \n",
       "2   3422 Blue Pioneer Bend        Caguas             PR            00725  \n",
       "3       8324 Little Common    San Marcos             CA            92069  \n",
       "4   10 Crystal River Mall         Caguas             PR            00725  "
      ]
     },
     "execution_count": 22,
     "metadata": {},
     "output_type": "execute_result"
    }
   ],
   "source": [
    "df_customers.head()"
   ]
  },
  {
   "cell_type": "code",
   "execution_count": 23,
   "metadata": {},
   "outputs": [],
   "source": [
    "from etl import load"
   ]
  },
  {
   "cell_type": "code",
   "execution_count": 24,
   "metadata": {},
   "outputs": [
    {
     "name": "stdout",
     "output_type": "stream",
     "text": [
      "(MySQLdb.IntegrityError) (1062, \"Duplicate entry '1' for key 'dimension_customer.PRIMARY'\")\n",
      "[SQL: INSERT INTO dimension_customer (customer_id, customer_fname, customer_lname, customer_email, customer_street, customer_city, customer_state, customer_zipcode) VALUES (%s, %s, %s, %s, %s, %s, %s, %s)]\n",
      "[parameters: [(1, 'Richard', 'Hernandez', 'XXXXXXXXX', '6303 Heather Plaza', 'Brownsville', 'TX', '78521'), (2, 'Mary', 'Barrett', 'XXXXXXXXX', '9526 Noble Embers Ridge', 'Littleton', 'CO', '80126'), (3, 'Ann', 'Smith', 'XXXXXXXXX', '3422 Blue Pioneer Bend', 'Caguas', 'PR', '00725'), (4, 'Mary', 'Jones', 'XXXXXXXXX', '8324 Little Common', 'San Marcos', 'CA', '92069'), (5, 'Robert', 'Hudson', 'XXXXXXXXX', '10 Crystal River Mall ', 'Caguas', 'PR', '00725'), (6, 'Mary', 'Smith', 'XXXXXXXXX', '3151 Sleepy Quail Promenade', 'Passaic', 'NJ', '07055'), (7, 'Melissa', 'Wilcox', 'XXXXXXXXX', '9453 High Concession', 'Caguas', 'PR', '00725'), (8, 'Megan', 'Smith', 'XXXXXXXXX', '3047 Foggy Forest Plaza', 'Lawrence', 'MA', '01841')  ... displaying 10 of 12435 total bound parameter sets ...  (12434, 'Mary', 'Mills', 'XXXXXXXXX', '9720 Colonial Parade', 'Caguas', 'PR', '00725'), (12435, 'Laura', 'Horton', 'XXXXXXXXX', '5736 Honey Downs', 'Summerville', 'SC', '29483')]]\n",
      "(Background on this error at: https://sqlalche.me/e/20/gkpj)\n"
     ]
    }
   ],
   "source": [
    "load.load_dw_retail('dimension_customer',connect_dw_retail,df_customers.drop('customer_password', axis=1))\n"
   ]
  },
  {
   "cell_type": "code",
   "execution_count": 25,
   "metadata": {},
   "outputs": [
    {
     "data": {
      "text/html": [
       "<div>\n",
       "<style scoped>\n",
       "    .dataframe tbody tr th:only-of-type {\n",
       "        vertical-align: middle;\n",
       "    }\n",
       "\n",
       "    .dataframe tbody tr th {\n",
       "        vertical-align: top;\n",
       "    }\n",
       "\n",
       "    .dataframe thead th {\n",
       "        text-align: right;\n",
       "    }\n",
       "</style>\n",
       "<table border=\"1\" class=\"dataframe\">\n",
       "  <thead>\n",
       "    <tr style=\"text-align: right;\">\n",
       "      <th></th>\n",
       "      <th>customer_id</th>\n",
       "      <th>customer_fname</th>\n",
       "      <th>customer_lname</th>\n",
       "      <th>customer_email</th>\n",
       "      <th>customer_street</th>\n",
       "      <th>customer_city</th>\n",
       "      <th>customer_state</th>\n",
       "      <th>customer_zipcode</th>\n",
       "    </tr>\n",
       "  </thead>\n",
       "  <tbody>\n",
       "    <tr>\n",
       "      <th>0</th>\n",
       "      <td>1</td>\n",
       "      <td>Richard</td>\n",
       "      <td>Hernandez</td>\n",
       "      <td>XXXXXXXXX</td>\n",
       "      <td>6303 Heather Plaza</td>\n",
       "      <td>Brownsville</td>\n",
       "      <td>TX</td>\n",
       "      <td>78521</td>\n",
       "    </tr>\n",
       "    <tr>\n",
       "      <th>1</th>\n",
       "      <td>2</td>\n",
       "      <td>Mary</td>\n",
       "      <td>Barrett</td>\n",
       "      <td>XXXXXXXXX</td>\n",
       "      <td>9526 Noble Embers Ridge</td>\n",
       "      <td>Littleton</td>\n",
       "      <td>CO</td>\n",
       "      <td>80126</td>\n",
       "    </tr>\n",
       "    <tr>\n",
       "      <th>2</th>\n",
       "      <td>3</td>\n",
       "      <td>Ann</td>\n",
       "      <td>Smith</td>\n",
       "      <td>XXXXXXXXX</td>\n",
       "      <td>3422 Blue Pioneer Bend</td>\n",
       "      <td>Caguas</td>\n",
       "      <td>PR</td>\n",
       "      <td>00725</td>\n",
       "    </tr>\n",
       "    <tr>\n",
       "      <th>3</th>\n",
       "      <td>4</td>\n",
       "      <td>Mary</td>\n",
       "      <td>Jones</td>\n",
       "      <td>XXXXXXXXX</td>\n",
       "      <td>8324 Little Common</td>\n",
       "      <td>San Marcos</td>\n",
       "      <td>CA</td>\n",
       "      <td>92069</td>\n",
       "    </tr>\n",
       "    <tr>\n",
       "      <th>4</th>\n",
       "      <td>5</td>\n",
       "      <td>Robert</td>\n",
       "      <td>Hudson</td>\n",
       "      <td>XXXXXXXXX</td>\n",
       "      <td>10 Crystal River Mall</td>\n",
       "      <td>Caguas</td>\n",
       "      <td>PR</td>\n",
       "      <td>00725</td>\n",
       "    </tr>\n",
       "  </tbody>\n",
       "</table>\n",
       "</div>"
      ],
      "text/plain": [
       "   customer_id customer_fname customer_lname customer_email  \\\n",
       "0            1        Richard      Hernandez      XXXXXXXXX   \n",
       "1            2           Mary        Barrett      XXXXXXXXX   \n",
       "2            3            Ann          Smith      XXXXXXXXX   \n",
       "3            4           Mary          Jones      XXXXXXXXX   \n",
       "4            5         Robert         Hudson      XXXXXXXXX   \n",
       "\n",
       "           customer_street customer_city customer_state customer_zipcode  \n",
       "0       6303 Heather Plaza   Brownsville             TX            78521  \n",
       "1  9526 Noble Embers Ridge     Littleton             CO            80126  \n",
       "2   3422 Blue Pioneer Bend        Caguas             PR            00725  \n",
       "3       8324 Little Common    San Marcos             CA            92069  \n",
       "4   10 Crystal River Mall         Caguas             PR            00725  "
      ]
     },
     "execution_count": 25,
     "metadata": {},
     "output_type": "execute_result"
    }
   ],
   "source": [
    "df = pd.read_sql(\"SELECT * FROM dimension_customer\", con=connect_dw_retail)\n",
    "df.head()"
   ]
  },
  {
   "cell_type": "code",
   "execution_count": 26,
   "metadata": {},
   "outputs": [],
   "source": [
    "load.load_dw_retail('dimension_department',connect_dw_retail,df_departments)"
   ]
  },
  {
   "cell_type": "code",
   "execution_count": 27,
   "metadata": {},
   "outputs": [],
   "source": [
    "load.load_dw_retail('dimension_category',connect_dw_retail,df_categories)"
   ]
  },
  {
   "cell_type": "code",
   "execution_count": 28,
   "metadata": {},
   "outputs": [],
   "source": [
    "load.load_dw_retail('dimension_product',connect_dw_retail,df_products)"
   ]
  },
  {
   "cell_type": "code",
   "execution_count": 29,
   "metadata": {},
   "outputs": [],
   "source": [
    "load.load_dw_retail('dimension_order',connect_dw_retail,df_orders)"
   ]
  },
  {
   "cell_type": "code",
   "execution_count": 30,
   "metadata": {},
   "outputs": [],
   "source": [
    "load.load_dw_retail('dimension_order_item',connect_dw_retail,df_order_items)"
   ]
  },
  {
   "cell_type": "code",
   "execution_count": 31,
   "metadata": {},
   "outputs": [],
   "source": [
    "from etl import transform as t"
   ]
  },
  {
   "cell_type": "code",
   "execution_count": 32,
   "metadata": {},
   "outputs": [
    {
     "ename": "NameError",
     "evalue": "name 'query' is not defined",
     "output_type": "error",
     "traceback": [
      "\u001b[0;31m---------------------------------------------------------------------------\u001b[0m",
      "\u001b[0;31mNameError\u001b[0m                                 Traceback (most recent call last)",
      "Cell \u001b[0;32mIn[32], line 1\u001b[0m\n\u001b[0;32m----> 1\u001b[0m df_dimension_time \u001b[38;5;241m=\u001b[39m t\u001b[38;5;241m.\u001b[39mtransform_time_from_order(\u001b[43mquery\u001b[49m, conn_retail_db)\n\u001b[1;32m      2\u001b[0m df_dimension_time\u001b[38;5;241m.\u001b[39mhead()\n",
      "\u001b[0;31mNameError\u001b[0m: name 'query' is not defined"
     ]
    }
   ],
   "source": [
    "df_dimension_time = t.transform_time_from_order(query, conn_retail_db)\n",
    "df_dimension_time.head()"
   ]
  }
 ],
 "metadata": {
  "kernelspec": {
   "display_name": "Python 3 (ipykernel)",
   "language": "python",
   "name": "python3"
  },
  "language_info": {
   "codemirror_mode": {
    "name": "ipython",
    "version": 3
   },
   "file_extension": ".py",
   "mimetype": "text/x-python",
   "name": "python",
   "nbconvert_exporter": "python",
   "pygments_lexer": "ipython3",
   "version": "3.10.13"
  }
 },
 "nbformat": 4,
 "nbformat_minor": 2
}
